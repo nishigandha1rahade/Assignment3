{
 "cells": [
  {
   "cell_type": "code",
   "execution_count": 1,
   "id": "e5bcc0dc-136e-4a96-99e3-6f15a3645487",
   "metadata": {},
   "outputs": [],
   "source": [
    "#TOPIC:Python basic variable"
   ]
  },
  {
   "cell_type": "markdown",
   "id": "74f8cbd5-e38f-423b-a280-968454d8a5e5",
   "metadata": {},
   "source": [
    "Q1] Declare two variables ,’X’ and ‘Y’,and assign them integer values. Swap the value of these variables without using any temporary variable."
   ]
  },
  {
   "cell_type": "markdown",
   "id": "fc1860ca-454f-439e-89b5-62c010e37759",
   "metadata": {},
   "source": [
    "Ans:"
   ]
  },
  {
   "cell_type": "code",
   "execution_count": 2,
   "id": "02486421-0f08-45af-a0a9-66a92afe227a",
   "metadata": {},
   "outputs": [],
   "source": [
    "x=20"
   ]
  },
  {
   "cell_type": "code",
   "execution_count": 3,
   "id": "911bbca8-7349-4af4-89c3-fa685aa4aae8",
   "metadata": {},
   "outputs": [],
   "source": [
    "y=50"
   ]
  },
  {
   "cell_type": "code",
   "execution_count": 4,
   "id": "048f0445-01d0-4473-be58-5bf0d7d1a5cf",
   "metadata": {},
   "outputs": [],
   "source": [
    "x,y=y,x"
   ]
  },
  {
   "cell_type": "code",
   "execution_count": 5,
   "id": "19df3a9e-590c-40a7-8bc1-5645c622a4e4",
   "metadata": {},
   "outputs": [
    {
     "data": {
      "text/plain": [
       "50"
      ]
     },
     "execution_count": 5,
     "metadata": {},
     "output_type": "execute_result"
    }
   ],
   "source": [
    "x"
   ]
  },
  {
   "cell_type": "code",
   "execution_count": 6,
   "id": "fc3ce434-fab9-4a2e-9835-02344a1d6f22",
   "metadata": {},
   "outputs": [
    {
     "data": {
      "text/plain": [
       "20"
      ]
     },
     "execution_count": 6,
     "metadata": {},
     "output_type": "execute_result"
    }
   ],
   "source": [
    "y"
   ]
  },
  {
   "cell_type": "markdown",
   "id": "955fc833-efe1-4a06-bb09-c6055c3c0ca0",
   "metadata": {},
   "source": [
    "Q2] Creates a program that calculates the area of a rectangle. Take the length and width as input from the user and store them in variables. Calculate and display the area"
   ]
  },
  {
   "cell_type": "markdown",
   "id": "67e486da-b757-43b8-86cf-773768e59b70",
   "metadata": {},
   "source": [
    "Ans:"
   ]
  },
  {
   "cell_type": "code",
   "execution_count": 7,
   "id": "8b64e5d1-f374-475d-802e-2b3423a54ce4",
   "metadata": {},
   "outputs": [],
   "source": [
    "length=45"
   ]
  },
  {
   "cell_type": "code",
   "execution_count": 8,
   "id": "4216f27b-44d3-4470-9306-8dbc0fe6dd14",
   "metadata": {},
   "outputs": [],
   "source": [
    "width=50"
   ]
  },
  {
   "cell_type": "code",
   "execution_count": 9,
   "id": "2b5e9e81-1ba2-48fd-935e-d541f8ecdcb7",
   "metadata": {},
   "outputs": [],
   "source": [
    "area=length*width"
   ]
  },
  {
   "cell_type": "code",
   "execution_count": 10,
   "id": "3a865426-4800-4d6e-a65a-67cdb07786a7",
   "metadata": {},
   "outputs": [
    {
     "data": {
      "text/plain": [
       "2250"
      ]
     },
     "execution_count": 10,
     "metadata": {},
     "output_type": "execute_result"
    }
   ],
   "source": [
    "area"
   ]
  },
  {
   "cell_type": "markdown",
   "id": "81815153-7126-4867-a384-507ef2bf67bb",
   "metadata": {},
   "source": [
    "Q3]Write a python program that converts temperature from celsius to Fahrenheit. Take the temperature in celsius as input ,store it in a variable,convert it to Fahrenheit, and display the result"
   ]
  },
  {
   "cell_type": "markdown",
   "id": "c4bd7158-76a3-471a-8252-5b936012bb13",
   "metadata": {},
   "source": [
    "Ans:"
   ]
  },
  {
   "cell_type": "code",
   "execution_count": 11,
   "id": "ba7b709d-16c5-453b-a5f2-310db7d7f750",
   "metadata": {},
   "outputs": [],
   "source": [
    "celsius=43.8"
   ]
  },
  {
   "cell_type": "code",
   "execution_count": 12,
   "id": "30426e2b-a3f4-4b94-ac90-68548df79288",
   "metadata": {},
   "outputs": [],
   "source": [
    "fahrenheit=(celsius *1.8+32)"
   ]
  },
  {
   "cell_type": "code",
   "execution_count": 13,
   "id": "d0f5da23-049b-4a72-8b20-caddfa05406d",
   "metadata": {},
   "outputs": [
    {
     "data": {
      "text/plain": [
       "110.84"
      ]
     },
     "execution_count": 13,
     "metadata": {},
     "output_type": "execute_result"
    }
   ],
   "source": [
    "fahrenheit"
   ]
  },
  {
   "cell_type": "code",
   "execution_count": 14,
   "id": "a61ae13c-dd4b-49ac-8d7f-eefa08cfd189",
   "metadata": {},
   "outputs": [],
   "source": [
    "#TOPIC:String based question "
   ]
  },
  {
   "cell_type": "markdown",
   "id": "bf302a41-0a4c-4617-921a-8626488bf498",
   "metadata": {},
   "source": [
    "Q1]write a python program that takes a String as input and print the length of the String."
   ]
  },
  {
   "cell_type": "markdown",
   "id": "98557155-a1d6-4e20-83ea-bacff7770aaf",
   "metadata": {},
   "source": [
    "Ans:"
   ]
  },
  {
   "cell_type": "code",
   "execution_count": 15,
   "id": "b2a7c326-e265-4fb5-8649-f5c1e718f734",
   "metadata": {},
   "outputs": [],
   "source": [
    "s='aditi'"
   ]
  },
  {
   "cell_type": "code",
   "execution_count": 16,
   "id": "dce26897-6237-4387-ae8d-2f423d0d8ca6",
   "metadata": {},
   "outputs": [
    {
     "data": {
      "text/plain": [
       "5"
      ]
     },
     "execution_count": 16,
     "metadata": {},
     "output_type": "execute_result"
    }
   ],
   "source": [
    "len(s)"
   ]
  },
  {
   "cell_type": "markdown",
   "id": "561150e2-62a6-40f5-a62e-0ebe2620d23c",
   "metadata": {},
   "source": [
    "Q2] Create a program that takes a sentence from the user and counts the number of vowels in the string"
   ]
  },
  {
   "cell_type": "markdown",
   "id": "27281820-9fe4-4f51-8c93-508f1cae71d8",
   "metadata": {},
   "source": [
    "Ans:"
   ]
  },
  {
   "cell_type": "code",
   "execution_count": 17,
   "id": "e102a7fc-cf84-48b2-a23c-58dabc8820c8",
   "metadata": {},
   "outputs": [],
   "source": [
    "def count_vowels(sentence):\n",
    "    vowels = \"aeiouAEIOU\"\n",
    "    vowel_count = 0\n",
    "    \n",
    "    for char in sentence:\n",
    "        if char in vowels:\n",
    "            vowel_count+= 1\n",
    "            \n",
    "            return vowel_count\n",
    "        \n",
    "        #Get input from the user\n",
    "        user_input =(\"Nishigandha Rahade\")\n",
    "        \n",
    "        #call the function to count vowels\n",
    "        num_vowels = count_vowels(user_input)\n",
    "        \n",
    "        #Display the result \n",
    "        print(f\"Number of vowels in the sentence: {num_vowels}\")"
   ]
  },
  {
   "cell_type": "markdown",
   "id": "a47cd8e4-0041-4873-a724-6f58e6bf10c8",
   "metadata": {},
   "source": [
    "Q3]Given a String ,reverse the order of characters using string slicing and print the reverse string."
   ]
  },
  {
   "cell_type": "markdown",
   "id": "27deacfc-1e7c-4763-81dd-5307a1e5822f",
   "metadata": {},
   "source": [
    "Ans:"
   ]
  },
  {
   "cell_type": "code",
   "execution_count": 18,
   "id": "e3913835-52d9-4729-93d2-13041b21f867",
   "metadata": {},
   "outputs": [],
   "source": [
    "s='my name is nishigandha'"
   ]
  },
  {
   "cell_type": "code",
   "execution_count": 19,
   "id": "e44199c2-e01a-4f10-94fd-527702d2e23c",
   "metadata": {},
   "outputs": [
    {
     "data": {
      "text/plain": [
       "'ahdnagihsin si eman ym'"
      ]
     },
     "execution_count": 19,
     "metadata": {},
     "output_type": "execute_result"
    }
   ],
   "source": [
    "s[::-1]"
   ]
  },
  {
   "cell_type": "markdown",
   "id": "502062e8-ed89-4d73-8cc4-308fe2f7ea75",
   "metadata": {},
   "source": [
    "Q4]write a program that takes as a string as input and checks if it is a palindrome (reads the same forwards and backwards)"
   ]
  },
  {
   "cell_type": "markdown",
   "id": "5f05953b-b5da-476f-af52-31e004d18c96",
   "metadata": {},
   "source": [
    "Ans:"
   ]
  },
  {
   "cell_type": "code",
   "execution_count": 20,
   "id": "081f34a0-abca-4450-adb5-0eedd4c93948",
   "metadata": {},
   "outputs": [
    {
     "name": "stdout",
     "output_type": "stream",
     "text": [
      "The string is a palindrome.\n"
     ]
    }
   ],
   "source": [
    "s1='abba'\n",
    "rev_str = reversed(s1)\n",
    "if list(s1) == list(rev_str):\n",
    "   print(\"The string is a palindrome.\")\n",
    "else:\n",
    "   print(\"The string is not a palindrome.\")\n"
   ]
  },
  {
   "cell_type": "markdown",
   "id": "bf4b7ee7-4c7c-4ecd-9ab7-86a3909b7b5b",
   "metadata": {},
   "source": [
    "Q5]create a program that takes a string as input and removes all the spaces from it. Print the modified string without spaces"
   ]
  },
  {
   "cell_type": "markdown",
   "id": "cc72fbc9-e95f-4b29-8505-e846a4ec80c3",
   "metadata": {},
   "source": [
    "Ans:"
   ]
  },
  {
   "cell_type": "code",
   "execution_count": 21,
   "id": "14fdf295-acfc-4ea2-9113-2691c92987c3",
   "metadata": {},
   "outputs": [],
   "source": [
    "s2='this is my first assignment'"
   ]
  },
  {
   "cell_type": "code",
   "execution_count": 22,
   "id": "79c480e0-7493-47a6-8f03-c518353732d8",
   "metadata": {},
   "outputs": [
    {
     "data": {
      "text/plain": [
       "'thisismyfirstassignment'"
      ]
     },
     "execution_count": 22,
     "metadata": {},
     "output_type": "execute_result"
    }
   ],
   "source": [
    "s2.replace(' ','')"
   ]
  },
  {
   "cell_type": "code",
   "execution_count": null,
   "id": "4c3e6ce1-ef98-4ea6-9109-b4494163b1f2",
   "metadata": {},
   "outputs": [],
   "source": []
  }
 ],
 "metadata": {
  "kernelspec": {
   "display_name": "Python 3 (ipykernel)",
   "language": "python",
   "name": "python3"
  },
  "language_info": {
   "codemirror_mode": {
    "name": "ipython",
    "version": 3
   },
   "file_extension": ".py",
   "mimetype": "text/x-python",
   "name": "python",
   "nbconvert_exporter": "python",
   "pygments_lexer": "ipython3",
   "version": "3.10.8"
  }
 },
 "nbformat": 4,
 "nbformat_minor": 5
}
